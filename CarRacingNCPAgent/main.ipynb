{
 "cells": [
  {
   "cell_type": "markdown",
   "id": "dd83b5f3",
   "metadata": {},
   "source": [
    "## Importing Libraries"
   ]
  },
  {
   "cell_type": "code",
   "execution_count": 1,
   "id": "a73f8e1d",
   "metadata": {
    "scrolled": true
   },
   "outputs": [
    {
     "name": "stderr",
     "output_type": "stream",
     "text": [
      "c:\\Users\\Waleed RazZaQ\\AppData\\Local\\Programs\\Python\\Python310\\lib\\site-packages\\seaborn\\rcmod.py:82: DeprecationWarning: distutils Version classes are deprecated. Use packaging.version instead.\n",
      "  if LooseVersion(mpl.__version__) >= \"3.0\":\n",
      "c:\\Users\\Waleed RazZaQ\\AppData\\Local\\Programs\\Python\\Python310\\lib\\site-packages\\setuptools\\_distutils\\version.py:346: DeprecationWarning: distutils Version classes are deprecated. Use packaging.version instead.\n",
      "  other = LooseVersion(other)\n",
      "c:\\Users\\Waleed RazZaQ\\AppData\\Local\\Programs\\Python\\Python310\\lib\\site-packages\\torch\\utils\\tensorboard\\__init__.py:4: DeprecationWarning: distutils Version classes are deprecated. Use packaging.version instead.\n",
      "  if not hasattr(tensorboard, \"__version__\") or LooseVersion(\n",
      "c:\\Users\\Waleed RazZaQ\\AppData\\Local\\Programs\\Python\\Python310\\lib\\site-packages\\flatbuffers\\compat.py:19: DeprecationWarning: the imp module is deprecated in favour of importlib and slated for removal in Python 3.12; see the module's documentation for alternative uses\n",
      "  import imp\n",
      "c:\\Users\\Waleed RazZaQ\\AppData\\Local\\Programs\\Python\\Python310\\lib\\site-packages\\keras\\utils\\image_utils.py:36: DeprecationWarning: NEAREST is deprecated and will be removed in Pillow 10 (2023-07-01). Use Resampling.NEAREST or Dither.NONE instead.\n",
      "  'nearest': pil_image.NEAREST,\n",
      "c:\\Users\\Waleed RazZaQ\\AppData\\Local\\Programs\\Python\\Python310\\lib\\site-packages\\keras\\utils\\image_utils.py:37: DeprecationWarning: BILINEAR is deprecated and will be removed in Pillow 10 (2023-07-01). Use Resampling.BILINEAR instead.\n",
      "  'bilinear': pil_image.BILINEAR,\n",
      "c:\\Users\\Waleed RazZaQ\\AppData\\Local\\Programs\\Python\\Python310\\lib\\site-packages\\keras\\utils\\image_utils.py:38: DeprecationWarning: BICUBIC is deprecated and will be removed in Pillow 10 (2023-07-01). Use Resampling.BICUBIC instead.\n",
      "  'bicubic': pil_image.BICUBIC,\n",
      "c:\\Users\\Waleed RazZaQ\\AppData\\Local\\Programs\\Python\\Python310\\lib\\site-packages\\keras\\utils\\image_utils.py:39: DeprecationWarning: HAMMING is deprecated and will be removed in Pillow 10 (2023-07-01). Use Resampling.HAMMING instead.\n",
      "  'hamming': pil_image.HAMMING,\n",
      "c:\\Users\\Waleed RazZaQ\\AppData\\Local\\Programs\\Python\\Python310\\lib\\site-packages\\keras\\utils\\image_utils.py:40: DeprecationWarning: BOX is deprecated and will be removed in Pillow 10 (2023-07-01). Use Resampling.BOX instead.\n",
      "  'box': pil_image.BOX,\n",
      "c:\\Users\\Waleed RazZaQ\\AppData\\Local\\Programs\\Python\\Python310\\lib\\site-packages\\keras\\utils\\image_utils.py:41: DeprecationWarning: LANCZOS is deprecated and will be removed in Pillow 10 (2023-07-01). Use Resampling.LANCZOS instead.\n",
      "  'lanczos': pil_image.LANCZOS,\n"
     ]
    }
   ],
   "source": [
    "import gym\n",
    "from CarRacingNCPAgent import *\n",
    "from utils import *"
   ]
  },
  {
   "cell_type": "markdown",
   "id": "b843b9a4",
   "metadata": {},
   "source": [
    "## making environment "
   ]
  },
  {
   "cell_type": "code",
   "execution_count": 2,
   "id": "f20d4025",
   "metadata": {},
   "outputs": [],
   "source": [
    "iter = 2  #iteration for recording data\n",
    "steps = 500 #steps for testing agent\n",
    "INPUT_SHAPE = (None,96,96,3)\n",
    "env = gym.make('CarRacing-v1',continuous=False)"
   ]
  },
  {
   "cell_type": "markdown",
   "id": "0f24fd87",
   "metadata": {},
   "source": [
    "## Creating Solution "
   ]
  },
  {
   "cell_type": "code",
   "execution_count": 3,
   "id": "b0528f96",
   "metadata": {},
   "outputs": [],
   "source": [
    "solution = CarRacingNCPAgent(INPUT_SHAPE)"
   ]
  },
  {
   "cell_type": "markdown",
   "id": "b10e90f1",
   "metadata": {},
   "source": [
    "## recording data for training"
   ]
  },
  {
   "cell_type": "code",
   "execution_count": 5,
   "id": "e04104c5",
   "metadata": {},
   "outputs": [
    {
     "name": "stdout",
     "output_type": "stream",
     "text": [
      "----Recording Data in data folder----\n"
     ]
    },
    {
     "ename": "FileNotFoundError",
     "evalue": "[Errno 2] No such file or directory: 'recorder\\\\memory.zip.zip'",
     "output_type": "error",
     "traceback": [
      "\u001b[1;31m---------------------------------------------------------------------------\u001b[0m",
      "\u001b[1;31mFileNotFoundError\u001b[0m                         Traceback (most recent call last)",
      "\u001b[1;32md:\\Harbin Engineering University\\MS Research\\Thesis\\Code\\Open AI CarRacing\\LTCvNCP\\CarRacingNCPAgent\\CarRacingNCPAgent\\main.ipynb Cell 9\u001b[0m in \u001b[0;36m<cell line: 1>\u001b[1;34m()\u001b[0m\n\u001b[1;32m----> <a href='vscode-notebook-cell:/d%3A/Harbin%20Engineering%20University/MS%20Research/Thesis/Code/Open%20AI%20CarRacing/LTCvNCP/CarRacingNCPAgent/CarRacingNCPAgent/main.ipynb#X10sZmlsZQ%3D%3D?line=0'>1</a>\u001b[0m solution\u001b[39m.\u001b[39;49mrecord_data(env\u001b[39m=\u001b[39;49menv,\u001b[39miter\u001b[39;49m\u001b[39m=\u001b[39;49m\u001b[39miter\u001b[39;49m)\n",
      "File \u001b[1;32md:\\Harbin Engineering University\\MS Research\\Thesis\\Code\\Open AI CarRacing\\LTCvNCP\\CarRacingNCPAgent\\CarRacingNCPAgent\\CarRacingNCPAgent.py:66\u001b[0m, in \u001b[0;36mCarRacingNCPAgent.record_data\u001b[1;34m(self, env, iter)\u001b[0m\n\u001b[0;32m     64\u001b[0m \u001b[39melse\u001b[39;00m:\n\u001b[0;32m     65\u001b[0m     \u001b[39mprint\u001b[39m(\u001b[39m'\u001b[39m\u001b[39m----Recording Data in data folder----\u001b[39m\u001b[39m'\u001b[39m)\n\u001b[1;32m---> 66\u001b[0m     recorder \u001b[39m=\u001b[39m PPO\u001b[39m.\u001b[39;49mload(\u001b[39mself\u001b[39;49m\u001b[39m.\u001b[39;49mrecorderdir,env\u001b[39m=\u001b[39;49menv)\n\u001b[0;32m     67\u001b[0m     obs \u001b[39m=\u001b[39m env\u001b[39m.\u001b[39mreset()\n\u001b[0;32m     68\u001b[0m     \u001b[39mfor\u001b[39;00m i \u001b[39min\u001b[39;00m \u001b[39mrange\u001b[39m(\u001b[39m1\u001b[39m,\u001b[39miter\u001b[39m\u001b[39m+\u001b[39m\u001b[39m1\u001b[39m):\n",
      "File \u001b[1;32mc:\\Users\\Waleed RazZaQ\\AppData\\Local\\Programs\\Python\\Python310\\lib\\site-packages\\stable_baselines3\\common\\base_class.py:704\u001b[0m, in \u001b[0;36mBaseAlgorithm.load\u001b[1;34m(cls, path, env, device, custom_objects, print_system_info, force_reset, **kwargs)\u001b[0m\n\u001b[0;32m    701\u001b[0m     \u001b[39mprint\u001b[39m(\u001b[39m\"\u001b[39m\u001b[39m== CURRENT SYSTEM INFO ==\u001b[39m\u001b[39m\"\u001b[39m)\n\u001b[0;32m    702\u001b[0m     get_system_info()\n\u001b[1;32m--> 704\u001b[0m data, params, pytorch_variables \u001b[39m=\u001b[39m load_from_zip_file(\n\u001b[0;32m    705\u001b[0m     path, device\u001b[39m=\u001b[39;49mdevice, custom_objects\u001b[39m=\u001b[39;49mcustom_objects, print_system_info\u001b[39m=\u001b[39;49mprint_system_info\n\u001b[0;32m    706\u001b[0m )\n\u001b[0;32m    708\u001b[0m \u001b[39m# Remove stored device information and replace with ours\u001b[39;00m\n\u001b[0;32m    709\u001b[0m \u001b[39mif\u001b[39;00m \u001b[39m\"\u001b[39m\u001b[39mpolicy_kwargs\u001b[39m\u001b[39m\"\u001b[39m \u001b[39min\u001b[39;00m data:\n",
      "File \u001b[1;32mc:\\Users\\Waleed RazZaQ\\AppData\\Local\\Programs\\Python\\Python310\\lib\\site-packages\\stable_baselines3\\common\\save_util.py:388\u001b[0m, in \u001b[0;36mload_from_zip_file\u001b[1;34m(load_path, load_data, custom_objects, device, verbose, print_system_info)\u001b[0m\n\u001b[0;32m    361\u001b[0m \u001b[39mdef\u001b[39;00m \u001b[39mload_from_zip_file\u001b[39m(\n\u001b[0;32m    362\u001b[0m     load_path: Union[\u001b[39mstr\u001b[39m, pathlib\u001b[39m.\u001b[39mPath, io\u001b[39m.\u001b[39mBufferedIOBase],\n\u001b[0;32m    363\u001b[0m     load_data: \u001b[39mbool\u001b[39m \u001b[39m=\u001b[39m \u001b[39mTrue\u001b[39;00m,\n\u001b[1;32m   (...)\u001b[0m\n\u001b[0;32m    367\u001b[0m     print_system_info: \u001b[39mbool\u001b[39m \u001b[39m=\u001b[39m \u001b[39mFalse\u001b[39;00m,\n\u001b[0;32m    368\u001b[0m ) \u001b[39m-\u001b[39m\u001b[39m>\u001b[39m (Tuple[Optional[Dict[\u001b[39mstr\u001b[39m, Any]], Optional[TensorDict], Optional[TensorDict]]):\n\u001b[0;32m    369\u001b[0m     \u001b[39m\"\"\"\u001b[39;00m\n\u001b[0;32m    370\u001b[0m \u001b[39m    Load model data from a .zip archive\u001b[39;00m\n\u001b[0;32m    371\u001b[0m \n\u001b[1;32m   (...)\u001b[0m\n\u001b[0;32m    386\u001b[0m \u001b[39m        and dict of pytorch variables\u001b[39;00m\n\u001b[0;32m    387\u001b[0m \u001b[39m    \"\"\"\u001b[39;00m\n\u001b[1;32m--> 388\u001b[0m     load_path \u001b[39m=\u001b[39m open_path(load_path, \u001b[39m\"\u001b[39;49m\u001b[39mr\u001b[39;49m\u001b[39m\"\u001b[39;49m, verbose\u001b[39m=\u001b[39;49mverbose, suffix\u001b[39m=\u001b[39;49m\u001b[39m\"\u001b[39;49m\u001b[39mzip\u001b[39;49m\u001b[39m\"\u001b[39;49m)\n\u001b[0;32m    390\u001b[0m     \u001b[39m# set device to cpu if cuda is not available\u001b[39;00m\n\u001b[0;32m    391\u001b[0m     device \u001b[39m=\u001b[39m get_device(device\u001b[39m=\u001b[39mdevice)\n",
      "File \u001b[1;32mc:\\Users\\Waleed RazZaQ\\AppData\\Local\\Programs\\Python\\Python310\\lib\\functools.py:889\u001b[0m, in \u001b[0;36msingledispatch.<locals>.wrapper\u001b[1;34m(*args, **kw)\u001b[0m\n\u001b[0;32m    885\u001b[0m \u001b[39mif\u001b[39;00m \u001b[39mnot\u001b[39;00m args:\n\u001b[0;32m    886\u001b[0m     \u001b[39mraise\u001b[39;00m \u001b[39mTypeError\u001b[39;00m(\u001b[39mf\u001b[39m\u001b[39m'\u001b[39m\u001b[39m{\u001b[39;00mfuncname\u001b[39m}\u001b[39;00m\u001b[39m requires at least \u001b[39m\u001b[39m'\u001b[39m\n\u001b[0;32m    887\u001b[0m                     \u001b[39m'\u001b[39m\u001b[39m1 positional argument\u001b[39m\u001b[39m'\u001b[39m)\n\u001b[1;32m--> 889\u001b[0m \u001b[39mreturn\u001b[39;00m dispatch(args[\u001b[39m0\u001b[39m]\u001b[39m.\u001b[39m\u001b[39m__class__\u001b[39m)(\u001b[39m*\u001b[39margs, \u001b[39m*\u001b[39m\u001b[39m*\u001b[39mkw)\n",
      "File \u001b[1;32mc:\\Users\\Waleed RazZaQ\\AppData\\Local\\Programs\\Python\\Python310\\lib\\site-packages\\stable_baselines3\\common\\save_util.py:232\u001b[0m, in \u001b[0;36mopen_path_str\u001b[1;34m(path, mode, verbose, suffix)\u001b[0m\n\u001b[0;32m    217\u001b[0m \u001b[39m@open_path\u001b[39m\u001b[39m.\u001b[39mregister(\u001b[39mstr\u001b[39m)\n\u001b[0;32m    218\u001b[0m \u001b[39mdef\u001b[39;00m \u001b[39mopen_path_str\u001b[39m(path: \u001b[39mstr\u001b[39m, mode: \u001b[39mstr\u001b[39m, verbose: \u001b[39mint\u001b[39m \u001b[39m=\u001b[39m \u001b[39m0\u001b[39m, suffix: Optional[\u001b[39mstr\u001b[39m] \u001b[39m=\u001b[39m \u001b[39mNone\u001b[39;00m) \u001b[39m-\u001b[39m\u001b[39m>\u001b[39m io\u001b[39m.\u001b[39mBufferedIOBase:\n\u001b[0;32m    219\u001b[0m     \u001b[39m\"\"\"\u001b[39;00m\n\u001b[0;32m    220\u001b[0m \u001b[39m    Open a path given by a string. If writing to the path, the function ensures\u001b[39;00m\n\u001b[0;32m    221\u001b[0m \u001b[39m    that the path exists.\u001b[39;00m\n\u001b[1;32m   (...)\u001b[0m\n\u001b[0;32m    230\u001b[0m \u001b[39m    :return:\u001b[39;00m\n\u001b[0;32m    231\u001b[0m \u001b[39m    \"\"\"\u001b[39;00m\n\u001b[1;32m--> 232\u001b[0m     \u001b[39mreturn\u001b[39;00m open_path(pathlib\u001b[39m.\u001b[39;49mPath(path), mode, verbose, suffix)\n",
      "File \u001b[1;32mc:\\Users\\Waleed RazZaQ\\AppData\\Local\\Programs\\Python\\Python310\\lib\\functools.py:889\u001b[0m, in \u001b[0;36msingledispatch.<locals>.wrapper\u001b[1;34m(*args, **kw)\u001b[0m\n\u001b[0;32m    885\u001b[0m \u001b[39mif\u001b[39;00m \u001b[39mnot\u001b[39;00m args:\n\u001b[0;32m    886\u001b[0m     \u001b[39mraise\u001b[39;00m \u001b[39mTypeError\u001b[39;00m(\u001b[39mf\u001b[39m\u001b[39m'\u001b[39m\u001b[39m{\u001b[39;00mfuncname\u001b[39m}\u001b[39;00m\u001b[39m requires at least \u001b[39m\u001b[39m'\u001b[39m\n\u001b[0;32m    887\u001b[0m                     \u001b[39m'\u001b[39m\u001b[39m1 positional argument\u001b[39m\u001b[39m'\u001b[39m)\n\u001b[1;32m--> 889\u001b[0m \u001b[39mreturn\u001b[39;00m dispatch(args[\u001b[39m0\u001b[39m]\u001b[39m.\u001b[39m\u001b[39m__class__\u001b[39m)(\u001b[39m*\u001b[39margs, \u001b[39m*\u001b[39m\u001b[39m*\u001b[39mkw)\n",
      "File \u001b[1;32mc:\\Users\\Waleed RazZaQ\\AppData\\Local\\Programs\\Python\\Python310\\lib\\site-packages\\stable_baselines3\\common\\save_util.py:284\u001b[0m, in \u001b[0;36mopen_path_pathlib\u001b[1;34m(path, mode, verbose, suffix)\u001b[0m\n\u001b[0;32m    277\u001b[0m         path\u001b[39m.\u001b[39mparent\u001b[39m.\u001b[39mmkdir(exist_ok\u001b[39m=\u001b[39m\u001b[39mTrue\u001b[39;00m, parents\u001b[39m=\u001b[39m\u001b[39mTrue\u001b[39;00m)\n\u001b[0;32m    279\u001b[0m \u001b[39m# if opening was successful uses the identity function\u001b[39;00m\n\u001b[0;32m    280\u001b[0m \u001b[39m# if opening failed with IsADirectory|FileNotFound, calls open_path_pathlib\u001b[39;00m\n\u001b[0;32m    281\u001b[0m \u001b[39m#   with corrections\u001b[39;00m\n\u001b[0;32m    282\u001b[0m \u001b[39m# if reading failed with FileNotFoundError, calls open_path_pathlib with suffix\u001b[39;00m\n\u001b[1;32m--> 284\u001b[0m \u001b[39mreturn\u001b[39;00m open_path(path, mode, verbose, suffix)\n",
      "File \u001b[1;32mc:\\Users\\Waleed RazZaQ\\AppData\\Local\\Programs\\Python\\Python310\\lib\\functools.py:889\u001b[0m, in \u001b[0;36msingledispatch.<locals>.wrapper\u001b[1;34m(*args, **kw)\u001b[0m\n\u001b[0;32m    885\u001b[0m \u001b[39mif\u001b[39;00m \u001b[39mnot\u001b[39;00m args:\n\u001b[0;32m    886\u001b[0m     \u001b[39mraise\u001b[39;00m \u001b[39mTypeError\u001b[39;00m(\u001b[39mf\u001b[39m\u001b[39m'\u001b[39m\u001b[39m{\u001b[39;00mfuncname\u001b[39m}\u001b[39;00m\u001b[39m requires at least \u001b[39m\u001b[39m'\u001b[39m\n\u001b[0;32m    887\u001b[0m                     \u001b[39m'\u001b[39m\u001b[39m1 positional argument\u001b[39m\u001b[39m'\u001b[39m)\n\u001b[1;32m--> 889\u001b[0m \u001b[39mreturn\u001b[39;00m dispatch(args[\u001b[39m0\u001b[39m]\u001b[39m.\u001b[39m\u001b[39m__class__\u001b[39m)(\u001b[39m*\u001b[39margs, \u001b[39m*\u001b[39m\u001b[39m*\u001b[39mkw)\n",
      "File \u001b[1;32mc:\\Users\\Waleed RazZaQ\\AppData\\Local\\Programs\\Python\\Python310\\lib\\site-packages\\stable_baselines3\\common\\save_util.py:264\u001b[0m, in \u001b[0;36mopen_path_pathlib\u001b[1;34m(path, mode, verbose, suffix)\u001b[0m\n\u001b[0;32m    262\u001b[0m             path, suffix \u001b[39m=\u001b[39m newpath, \u001b[39mNone\u001b[39;00m\n\u001b[0;32m    263\u001b[0m         \u001b[39melse\u001b[39;00m:\n\u001b[1;32m--> 264\u001b[0m             \u001b[39mraise\u001b[39;00m error\n\u001b[0;32m    265\u001b[0m \u001b[39melse\u001b[39;00m:\n\u001b[0;32m    266\u001b[0m     \u001b[39mtry\u001b[39;00m:\n",
      "File \u001b[1;32mc:\\Users\\Waleed RazZaQ\\AppData\\Local\\Programs\\Python\\Python310\\lib\\site-packages\\stable_baselines3\\common\\save_util.py:256\u001b[0m, in \u001b[0;36mopen_path_pathlib\u001b[1;34m(path, mode, verbose, suffix)\u001b[0m\n\u001b[0;32m    254\u001b[0m \u001b[39mif\u001b[39;00m mode \u001b[39m==\u001b[39m \u001b[39m\"\u001b[39m\u001b[39mr\u001b[39m\u001b[39m\"\u001b[39m:\n\u001b[0;32m    255\u001b[0m     \u001b[39mtry\u001b[39;00m:\n\u001b[1;32m--> 256\u001b[0m         path \u001b[39m=\u001b[39m path\u001b[39m.\u001b[39;49mopen(\u001b[39m\"\u001b[39;49m\u001b[39mrb\u001b[39;49m\u001b[39m\"\u001b[39;49m)\n\u001b[0;32m    257\u001b[0m     \u001b[39mexcept\u001b[39;00m \u001b[39mFileNotFoundError\u001b[39;00m \u001b[39mas\u001b[39;00m error:\n\u001b[0;32m    258\u001b[0m         \u001b[39mif\u001b[39;00m suffix \u001b[39mis\u001b[39;00m \u001b[39mnot\u001b[39;00m \u001b[39mNone\u001b[39;00m \u001b[39mand\u001b[39;00m suffix \u001b[39m!=\u001b[39m \u001b[39m\"\u001b[39m\u001b[39m\"\u001b[39m:\n",
      "File \u001b[1;32mc:\\Users\\Waleed RazZaQ\\AppData\\Local\\Programs\\Python\\Python310\\lib\\pathlib.py:1119\u001b[0m, in \u001b[0;36mPath.open\u001b[1;34m(self, mode, buffering, encoding, errors, newline)\u001b[0m\n\u001b[0;32m   1117\u001b[0m \u001b[39mif\u001b[39;00m \u001b[39m\"\u001b[39m\u001b[39mb\u001b[39m\u001b[39m\"\u001b[39m \u001b[39mnot\u001b[39;00m \u001b[39min\u001b[39;00m mode:\n\u001b[0;32m   1118\u001b[0m     encoding \u001b[39m=\u001b[39m io\u001b[39m.\u001b[39mtext_encoding(encoding)\n\u001b[1;32m-> 1119\u001b[0m \u001b[39mreturn\u001b[39;00m \u001b[39mself\u001b[39;49m\u001b[39m.\u001b[39;49m_accessor\u001b[39m.\u001b[39;49mopen(\u001b[39mself\u001b[39;49m, mode, buffering, encoding, errors,\n\u001b[0;32m   1120\u001b[0m                            newline)\n",
      "\u001b[1;31mFileNotFoundError\u001b[0m: [Errno 2] No such file or directory: 'recorder\\\\memory.zip.zip'"
     ]
    }
   ],
   "source": [
    "solution.record_data(env,iter)"
   ]
  },
  {
   "cell_type": "markdown",
   "id": "a95b76d1",
   "metadata": {},
   "source": [
    "## testing recorded data"
   ]
  },
  {
   "cell_type": "code",
   "execution_count": null,
   "id": "7ce92800",
   "metadata": {},
   "outputs": [],
   "source": [
    "solution.test_recorded_data()"
   ]
  },
  {
   "cell_type": "markdown",
   "id": "dcf6edd1",
   "metadata": {},
   "source": [
    "## creating agent"
   ]
  },
  {
   "cell_type": "code",
   "execution_count": null,
   "id": "d7231257",
   "metadata": {},
   "outputs": [],
   "source": [
    "ncp_cell = solution.NCP()\n",
    "agent = solution.build(ncp_cell)"
   ]
  },
  {
   "cell_type": "markdown",
   "id": "c275bb48",
   "metadata": {},
   "source": [
    "### summary"
   ]
  },
  {
   "cell_type": "code",
   "execution_count": null,
   "id": "6fc92672",
   "metadata": {},
   "outputs": [],
   "source": [
    "solution.summary(agent)"
   ]
  },
  {
   "cell_type": "markdown",
   "id": "d8e30da7",
   "metadata": {},
   "source": [
    "## loading training data "
   ]
  },
  {
   "cell_type": "code",
   "execution_count": null,
   "id": "31413373",
   "metadata": {},
   "outputs": [],
   "source": [
    "X,y = solution.load_data()"
   ]
  },
  {
   "cell_type": "markdown",
   "id": "f6fb2f16",
   "metadata": {},
   "source": [
    "## preprocess data"
   ]
  },
  {
   "cell_type": "code",
   "execution_count": null,
   "id": "951957d8",
   "metadata": {},
   "outputs": [],
   "source": [
    "X,y = preprocess(X,y)"
   ]
  },
  {
   "cell_type": "markdown",
   "id": "2bd9e11e",
   "metadata": {},
   "source": [
    "## training agent"
   ]
  },
  {
   "cell_type": "code",
   "execution_count": null,
   "id": "b501b6ab",
   "metadata": {},
   "outputs": [],
   "source": [
    "solution.learn(agent,X,y)"
   ]
  },
  {
   "cell_type": "markdown",
   "id": "d4876734",
   "metadata": {},
   "source": [
    "## testing agent"
   ]
  },
  {
   "cell_type": "code",
   "execution_count": null,
   "id": "98d2bd04",
   "metadata": {},
   "outputs": [],
   "source": [
    "solution.test_agent(env=env,steps=steps)"
   ]
  },
  {
   "cell_type": "code",
   "execution_count": null,
   "id": "3f0610c3",
   "metadata": {},
   "outputs": [],
   "source": []
  }
 ],
 "metadata": {
  "kernelspec": {
   "display_name": "Python 3",
   "language": "python",
   "name": "python3"
  },
  "language_info": {
   "codemirror_mode": {
    "name": "ipython",
    "version": 3
   },
   "file_extension": ".py",
   "mimetype": "text/x-python",
   "name": "python",
   "nbconvert_exporter": "python",
   "pygments_lexer": "ipython3",
   "version": "3.10.5"
  },
  "vscode": {
   "interpreter": {
    "hash": "ab84889cb095c44b8429d51018245159fbf1c12f737b9c00678ee22457e433a8"
   }
  }
 },
 "nbformat": 4,
 "nbformat_minor": 5
}
