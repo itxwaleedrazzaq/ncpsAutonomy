{
 "cells": [
  {
   "cell_type": "markdown",
   "id": "dd83b5f3",
   "metadata": {},
   "source": [
    "## Importing Libraries"
   ]
  },
  {
   "cell_type": "code",
   "execution_count": null,
   "id": "a73f8e1d",
   "metadata": {
    "scrolled": true
   },
   "outputs": [],
   "source": [
    "import gym\n",
    "from CarRacingNCPAgent import *\n",
    "from utils import *"
   ]
  },
  {
   "cell_type": "markdown",
   "id": "b843b9a4",
   "metadata": {},
   "source": [
    "## making environment "
   ]
  },
  {
   "cell_type": "code",
   "execution_count": null,
   "id": "f20d4025",
   "metadata": {},
   "outputs": [],
   "source": [
    "iter = 2  #iteration for recording data\n",
    "steps = 500 #steps for testing agent\n",
    "INPUT_SHAPE = (None,96,96,3)\n",
    "env = gym.make('CarRacing-v1',continuous=False)"
   ]
  },
  {
   "cell_type": "markdown",
   "id": "0f24fd87",
   "metadata": {},
   "source": [
    "## Creating Solution "
   ]
  },
  {
   "cell_type": "code",
   "execution_count": null,
   "id": "b0528f96",
   "metadata": {},
   "outputs": [],
   "source": [
    "solution = CarRacingNCPAgent(INPUT_SHAPE)"
   ]
  },
  {
   "cell_type": "markdown",
   "id": "b10e90f1",
   "metadata": {},
   "source": [
    "## recording data for training"
   ]
  },
  {
   "cell_type": "code",
   "execution_count": null,
   "id": "e04104c5",
   "metadata": {},
   "outputs": [],
   "source": [
    "solution.record_data(env,iter)"
   ]
  },
  {
   "cell_type": "markdown",
   "id": "a95b76d1",
   "metadata": {},
   "source": [
    "## testing recorded data"
   ]
  },
  {
   "cell_type": "code",
   "execution_count": null,
   "id": "7ce92800",
   "metadata": {},
   "outputs": [],
   "source": [
    "solution.test_recorded_data()"
   ]
  },
  {
   "cell_type": "markdown",
   "id": "dcf6edd1",
   "metadata": {},
   "source": [
    "## creating agent"
   ]
  },
  {
   "cell_type": "code",
   "execution_count": null,
   "id": "d7231257",
   "metadata": {},
   "outputs": [],
   "source": [
    "ncp_cell = solution.NCP()\n",
    "agent = solution.build(ncp_cell)"
   ]
  },
  {
   "cell_type": "code",
   "execution_count": null,
   "id": "8e62721c",
   "metadata": {},
   "outputs": [],
   "source": [
    "NCP_stacking(ncp_cell)"
   ]
  },
  {
   "cell_type": "markdown",
   "id": "c275bb48",
   "metadata": {},
   "source": [
    "### summary"
   ]
  },
  {
   "cell_type": "code",
   "execution_count": null,
   "id": "6fc92672",
   "metadata": {},
   "outputs": [],
   "source": [
    "solution.summary(agent)"
   ]
  },
  {
   "cell_type": "markdown",
   "id": "d8e30da7",
   "metadata": {},
   "source": [
    "## loading training data "
   ]
  },
  {
   "cell_type": "code",
   "execution_count": null,
   "id": "31413373",
   "metadata": {},
   "outputs": [],
   "source": [
    "X,y = solution.load_data()"
   ]
  },
  {
   "cell_type": "markdown",
   "id": "f6fb2f16",
   "metadata": {},
   "source": [
    "## preprocess data"
   ]
  },
  {
   "cell_type": "code",
   "execution_count": null,
   "id": "951957d8",
   "metadata": {},
   "outputs": [],
   "source": [
    "X,y = preprocess(X,y)"
   ]
  },
  {
   "cell_type": "markdown",
   "id": "2bd9e11e",
   "metadata": {},
   "source": [
    "## training agent"
   ]
  },
  {
   "cell_type": "code",
   "execution_count": null,
   "id": "b501b6ab",
   "metadata": {},
   "outputs": [],
   "source": [
    "solution.learn(agent,X,y)"
   ]
  },
  {
   "cell_type": "markdown",
   "id": "d4876734",
   "metadata": {},
   "source": [
    "## testing agent"
   ]
  },
  {
   "cell_type": "code",
   "execution_count": null,
   "id": "98d2bd04",
   "metadata": {},
   "outputs": [],
   "source": [
    "solution.test_agent(env=env,steps=steps)"
   ]
  },
  {
   "cell_type": "code",
   "execution_count": null,
   "id": "3f0610c3",
   "metadata": {},
   "outputs": [],
   "source": []
  }
 ],
 "metadata": {
  "kernelspec": {
   "display_name": "Python 3",
   "language": "python",
   "name": "python3"
  },
  "language_info": {
   "codemirror_mode": {
    "name": "ipython",
    "version": 3
   },
   "file_extension": ".py",
   "mimetype": "text/x-python",
   "name": "python",
   "nbconvert_exporter": "python",
   "pygments_lexer": "ipython3",
   "version": "3.10.5"
  },
  "vscode": {
   "interpreter": {
    "hash": "ab84889cb095c44b8429d51018245159fbf1c12f737b9c00678ee22457e433a8"
   }
  }
 },
 "nbformat": 4,
 "nbformat_minor": 5
}
